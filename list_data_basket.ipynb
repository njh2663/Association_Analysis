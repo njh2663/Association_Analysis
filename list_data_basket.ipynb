{
 "cells": [
  {
   "cell_type": "markdown",
   "metadata": {},
   "source": [
    "# Setting"
   ]
  },
  {
   "cell_type": "code",
   "execution_count": 2,
   "metadata": {},
   "outputs": [],
   "source": [
    "import pandas as pd\n",
    "from mlxtend.preprocessing import TransactionEncoder\n",
    "from mlxtend.frequent_patterns import apriori, association_rules\n",
    "from mlxtend.frequent_patterns import fpgrowth"
   ]
  },
  {
   "cell_type": "markdown",
   "metadata": {},
   "source": [
    "# 데이터 생성"
   ]
  },
  {
   "cell_type": "markdown",
   "metadata": {},
   "source": [
    "반찬류와 육류로 임의의 데이터셋 생성  \n",
    "- 반찬류 : 깻잎, 명이  \n",
    "- 육류 : 돼지고기, 소고기"
   ]
  },
  {
   "cell_type": "code",
   "execution_count": 3,
   "metadata": {},
   "outputs": [],
   "source": [
    "dataset = [\n",
    "\t['명이', '소고기'],\n",
    "\t['깻잎', '돼지고기', '소고기'],\n",
    "\t['깻잎', '명이', '돼지고기'],\n",
    "\t['깻잎', '돼지고기'],\n",
    "\t['명이', '돼지고기'],\n",
    "    ['명이', '소고기', '돼지고기'],\n",
    "    ['명이', '소고기'],\n",
    "\t['깻잎', '명이', '소고기'],\n",
    "\t['명이', '돼지고기'],\n",
    "\t['명이', '돼지고기', '소고기']\n",
    "]"
   ]
  },
  {
   "cell_type": "code",
   "execution_count": 6,
   "metadata": {},
   "outputs": [
    {
     "name": "stdout",
     "output_type": "stream",
     "text": [
      "[[False False  True  True]\n",
      " [ True  True False  True]\n",
      " [ True  True  True False]\n",
      " [ True  True False False]\n",
      " [False  True  True False]\n",
      " [False  True  True  True]\n",
      " [False False  True  True]\n",
      " [ True False  True  True]\n",
      " [False  True  True False]\n",
      " [False  True  True  True]]\n"
     ]
    }
   ],
   "source": [
    "# 원-핫 인코딩\n",
    "te = TransactionEncoder() # 인코더 가져오기\n",
    "te_array = te.fit(dataset).transform(dataset)\n",
    "print(te_array)\n",
    "\n",
    "df = pd.DataFrame(te_array, columns = te.columns_)"
   ]
  },
  {
   "cell_type": "markdown",
   "metadata": {},
   "source": [
    "# Apriori"
   ]
  },
  {
   "cell_type": "code",
   "execution_count": 7,
   "metadata": {},
   "outputs": [],
   "source": [
    "threshold = 0.2"
   ]
  },
  {
   "cell_type": "code",
   "execution_count": 8,
   "metadata": {},
   "outputs": [
    {
     "name": "stdout",
     "output_type": "stream",
     "text": [
      "    support         itemsets\n",
      "2       0.8             (명이)\n",
      "1       0.7           (돼지고기)\n",
      "3       0.6            (소고기)\n",
      "7       0.5       (돼지고기, 명이)\n",
      "9       0.5        (소고기, 명이)\n",
      "0       0.4             (깻잎)\n",
      "4       0.3       (돼지고기, 깻잎)\n",
      "8       0.3      (돼지고기, 소고기)\n",
      "5       0.2         (깻잎, 명이)\n",
      "6       0.2        (소고기, 깻잎)\n",
      "10      0.2  (돼지고기, 소고기, 명이)\n"
     ]
    }
   ],
   "source": [
    "frequent_itemsets = apriori(df, min_support = threshold, use_colnames = True)\n",
    "print(frequent_itemsets.sort_values('support', ascending = False))"
   ]
  },
  {
   "cell_type": "code",
   "execution_count": 9,
   "metadata": {},
   "outputs": [
    {
     "data": {
      "text/html": [
       "<div>\n",
       "<style scoped>\n",
       "    .dataframe tbody tr th:only-of-type {\n",
       "        vertical-align: middle;\n",
       "    }\n",
       "\n",
       "    .dataframe tbody tr th {\n",
       "        vertical-align: top;\n",
       "    }\n",
       "\n",
       "    .dataframe thead th {\n",
       "        text-align: right;\n",
       "    }\n",
       "</style>\n",
       "<table border=\"1\" class=\"dataframe\">\n",
       "  <thead>\n",
       "    <tr style=\"text-align: right;\">\n",
       "      <th></th>\n",
       "      <th>antecedents</th>\n",
       "      <th>consequents</th>\n",
       "      <th>antecedent support</th>\n",
       "      <th>consequent support</th>\n",
       "      <th>support</th>\n",
       "      <th>confidence</th>\n",
       "      <th>lift</th>\n",
       "      <th>leverage</th>\n",
       "      <th>conviction</th>\n",
       "      <th>zhangs_metric</th>\n",
       "    </tr>\n",
       "  </thead>\n",
       "  <tbody>\n",
       "    <tr>\n",
       "      <th>2</th>\n",
       "      <td>(소고기)</td>\n",
       "      <td>(명이)</td>\n",
       "      <td>0.6</td>\n",
       "      <td>0.8</td>\n",
       "      <td>0.5</td>\n",
       "      <td>0.833333</td>\n",
       "      <td>1.041667</td>\n",
       "      <td>0.02</td>\n",
       "      <td>1.200000</td>\n",
       "      <td>0.100000</td>\n",
       "    </tr>\n",
       "    <tr>\n",
       "      <th>1</th>\n",
       "      <td>(깻잎)</td>\n",
       "      <td>(돼지고기)</td>\n",
       "      <td>0.4</td>\n",
       "      <td>0.7</td>\n",
       "      <td>0.3</td>\n",
       "      <td>0.750000</td>\n",
       "      <td>1.071429</td>\n",
       "      <td>0.02</td>\n",
       "      <td>1.200000</td>\n",
       "      <td>0.111111</td>\n",
       "    </tr>\n",
       "    <tr>\n",
       "      <th>3</th>\n",
       "      <td>(명이)</td>\n",
       "      <td>(소고기)</td>\n",
       "      <td>0.8</td>\n",
       "      <td>0.6</td>\n",
       "      <td>0.5</td>\n",
       "      <td>0.625000</td>\n",
       "      <td>1.041667</td>\n",
       "      <td>0.02</td>\n",
       "      <td>1.066667</td>\n",
       "      <td>0.200000</td>\n",
       "    </tr>\n",
       "    <tr>\n",
       "      <th>0</th>\n",
       "      <td>(돼지고기)</td>\n",
       "      <td>(깻잎)</td>\n",
       "      <td>0.7</td>\n",
       "      <td>0.4</td>\n",
       "      <td>0.3</td>\n",
       "      <td>0.428571</td>\n",
       "      <td>1.071429</td>\n",
       "      <td>0.02</td>\n",
       "      <td>1.050000</td>\n",
       "      <td>0.222222</td>\n",
       "    </tr>\n",
       "  </tbody>\n",
       "</table>\n",
       "</div>"
      ],
      "text/plain": [
       "  antecedents consequents  antecedent support  consequent support  support  \\\n",
       "2       (소고기)        (명이)                 0.6                 0.8      0.5   \n",
       "1        (깻잎)      (돼지고기)                 0.4                 0.7      0.3   \n",
       "3        (명이)       (소고기)                 0.8                 0.6      0.5   \n",
       "0      (돼지고기)        (깻잎)                 0.7                 0.4      0.3   \n",
       "\n",
       "   confidence      lift  leverage  conviction  zhangs_metric  \n",
       "2    0.833333  1.041667      0.02    1.200000       0.100000  \n",
       "1    0.750000  1.071429      0.02    1.200000       0.111111  \n",
       "3    0.625000  1.041667      0.02    1.066667       0.200000  \n",
       "0    0.428571  1.071429      0.02    1.050000       0.222222  "
      ]
     },
     "execution_count": 9,
     "metadata": {},
     "output_type": "execute_result"
    }
   ],
   "source": [
    "rules = association_rules(frequent_itemsets, metric=\"lift\", min_threshold=1)  # 양의 상관관계\n",
    "rules.sort_values('confidence', ascending = False, inplace = True)  # confidence 순으로 정렬\n",
    "# print(rules)\n",
    "rules"
   ]
  },
  {
   "cell_type": "markdown",
   "metadata": {},
   "source": [
    "Lift 값이 1 이상으로 양의 상관관계가 있다고 보이는 조합을 추출  \n",
    "신뢰도 기준으로 정렬하였을 때 결과는 아래와 같음"
   ]
  },
  {
   "cell_type": "markdown",
   "metadata": {},
   "source": [
    "1. 소고기 -> 명이\n",
    "2. 깻잎 -> 돼지고기\n",
    "3. 명이 -> 소고기\n",
    "4. 돼지고기 -> 꺳잎"
   ]
  },
  {
   "cell_type": "markdown",
   "metadata": {},
   "source": [
    "# FP Growth"
   ]
  },
  {
   "cell_type": "code",
   "execution_count": 12,
   "metadata": {},
   "outputs": [
    {
     "name": "stdout",
     "output_type": "stream",
     "text": [
      "    support         itemsets\n",
      "0       0.8             (명이)\n",
      "2       0.7           (돼지고기)\n",
      "1       0.6            (소고기)\n",
      "4       0.5        (소고기, 명이)\n",
      "7       0.5       (돼지고기, 명이)\n",
      "3       0.4             (깻잎)\n",
      "5       0.3      (돼지고기, 소고기)\n",
      "8       0.3       (돼지고기, 깻잎)\n",
      "6       0.2  (돼지고기, 소고기, 명이)\n",
      "9       0.2        (소고기, 깻잎)\n",
      "10      0.2         (깻잎, 명이)\n"
     ]
    }
   ],
   "source": [
    "frequent_itemsets = fpgrowth(df, min_support = threshold, use_colnames=True)\n",
    "print(frequent_itemsets.sort_values('support', ascending = False))"
   ]
  },
  {
   "cell_type": "code",
   "execution_count": 11,
   "metadata": {},
   "outputs": [
    {
     "data": {
      "text/html": [
       "<div>\n",
       "<style scoped>\n",
       "    .dataframe tbody tr th:only-of-type {\n",
       "        vertical-align: middle;\n",
       "    }\n",
       "\n",
       "    .dataframe tbody tr th {\n",
       "        vertical-align: top;\n",
       "    }\n",
       "\n",
       "    .dataframe thead th {\n",
       "        text-align: right;\n",
       "    }\n",
       "</style>\n",
       "<table border=\"1\" class=\"dataframe\">\n",
       "  <thead>\n",
       "    <tr style=\"text-align: right;\">\n",
       "      <th></th>\n",
       "      <th>antecedents</th>\n",
       "      <th>consequents</th>\n",
       "      <th>antecedent support</th>\n",
       "      <th>consequent support</th>\n",
       "      <th>support</th>\n",
       "      <th>confidence</th>\n",
       "      <th>lift</th>\n",
       "      <th>leverage</th>\n",
       "      <th>conviction</th>\n",
       "      <th>zhangs_metric</th>\n",
       "    </tr>\n",
       "  </thead>\n",
       "  <tbody>\n",
       "    <tr>\n",
       "      <th>0</th>\n",
       "      <td>(소고기)</td>\n",
       "      <td>(명이)</td>\n",
       "      <td>0.6</td>\n",
       "      <td>0.8</td>\n",
       "      <td>0.5</td>\n",
       "      <td>0.833333</td>\n",
       "      <td>1.041667</td>\n",
       "      <td>0.02</td>\n",
       "      <td>1.200000</td>\n",
       "      <td>0.100000</td>\n",
       "    </tr>\n",
       "    <tr>\n",
       "      <th>3</th>\n",
       "      <td>(깻잎)</td>\n",
       "      <td>(돼지고기)</td>\n",
       "      <td>0.4</td>\n",
       "      <td>0.7</td>\n",
       "      <td>0.3</td>\n",
       "      <td>0.750000</td>\n",
       "      <td>1.071429</td>\n",
       "      <td>0.02</td>\n",
       "      <td>1.200000</td>\n",
       "      <td>0.111111</td>\n",
       "    </tr>\n",
       "    <tr>\n",
       "      <th>1</th>\n",
       "      <td>(명이)</td>\n",
       "      <td>(소고기)</td>\n",
       "      <td>0.8</td>\n",
       "      <td>0.6</td>\n",
       "      <td>0.5</td>\n",
       "      <td>0.625000</td>\n",
       "      <td>1.041667</td>\n",
       "      <td>0.02</td>\n",
       "      <td>1.066667</td>\n",
       "      <td>0.200000</td>\n",
       "    </tr>\n",
       "    <tr>\n",
       "      <th>2</th>\n",
       "      <td>(돼지고기)</td>\n",
       "      <td>(깻잎)</td>\n",
       "      <td>0.7</td>\n",
       "      <td>0.4</td>\n",
       "      <td>0.3</td>\n",
       "      <td>0.428571</td>\n",
       "      <td>1.071429</td>\n",
       "      <td>0.02</td>\n",
       "      <td>1.050000</td>\n",
       "      <td>0.222222</td>\n",
       "    </tr>\n",
       "  </tbody>\n",
       "</table>\n",
       "</div>"
      ],
      "text/plain": [
       "  antecedents consequents  antecedent support  consequent support  support  \\\n",
       "0       (소고기)        (명이)                 0.6                 0.8      0.5   \n",
       "3        (깻잎)      (돼지고기)                 0.4                 0.7      0.3   \n",
       "1        (명이)       (소고기)                 0.8                 0.6      0.5   \n",
       "2      (돼지고기)        (깻잎)                 0.7                 0.4      0.3   \n",
       "\n",
       "   confidence      lift  leverage  conviction  zhangs_metric  \n",
       "0    0.833333  1.041667      0.02    1.200000       0.100000  \n",
       "3    0.750000  1.071429      0.02    1.200000       0.111111  \n",
       "1    0.625000  1.041667      0.02    1.066667       0.200000  \n",
       "2    0.428571  1.071429      0.02    1.050000       0.222222  "
      ]
     },
     "execution_count": 11,
     "metadata": {},
     "output_type": "execute_result"
    }
   ],
   "source": [
    "rules = association_rules(frequent_itemsets, metric=\"lift\", min_threshold=1)  # 양의 상관관계\n",
    "rules.sort_values('confidence', ascending = False, inplace = True)  # confidence 순으로 정렬\n",
    "# print(rules)\n",
    "rules"
   ]
  },
  {
   "cell_type": "markdown",
   "metadata": {},
   "source": [
    "Lift 값이 1 이상으로 양의 상관관계가 있다고 보이는 조합을 추출  \n",
    "신뢰도 기준으로 정렬하였을 때 결과는 아래와 같음"
   ]
  },
  {
   "cell_type": "markdown",
   "metadata": {},
   "source": [
    "1. 소고기 -> 명이\n",
    "2. 깻잎 -> 돼지고기\n",
    "3. 명이 -> 소고기\n",
    "4. 돼지고기 -> 꺳잎"
   ]
  }
 ],
 "metadata": {
  "kernelspec": {
   "display_name": "association",
   "language": "python",
   "name": "python3"
  },
  "language_info": {
   "codemirror_mode": {
    "name": "ipython",
    "version": 3
   },
   "file_extension": ".py",
   "mimetype": "text/x-python",
   "name": "python",
   "nbconvert_exporter": "python",
   "pygments_lexer": "ipython3",
   "version": "3.12.2"
  }
 },
 "nbformat": 4,
 "nbformat_minor": 2
}
