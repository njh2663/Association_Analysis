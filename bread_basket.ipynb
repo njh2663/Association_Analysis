{
 "cells": [
  {
   "cell_type": "markdown",
   "metadata": {},
   "source": [
    "# Setting"
   ]
  },
  {
   "cell_type": "code",
   "execution_count": 1,
   "metadata": {},
   "outputs": [],
   "source": [
    "import numpy as np\n",
    "import pandas as pd\n",
    "import matplotlib.pyplot as plt\n",
    "from mlxtend.preprocessing import TransactionEncoder\n",
    "from mlxtend.frequent_patterns import apriori, association_rules\n",
    "from mlxtend.frequent_patterns import fpgrowth"
   ]
  },
  {
   "cell_type": "markdown",
   "metadata": {},
   "source": [
    "# 데이터 불러오기 및 구조 확인"
   ]
  },
  {
   "cell_type": "markdown",
   "metadata": {},
   "source": [
    "Transaction : Transaction id which is unique for each order   \n",
    "Item : List of items to be ordered/placed by customer  "
   ]
  },
  {
   "cell_type": "code",
   "execution_count": 2,
   "metadata": {},
   "outputs": [
    {
     "name": "stdout",
     "output_type": "stream",
     "text": [
      "   Transaction           Item         date_time period_day weekday_weekend\n",
      "0            1          Bread  30-10-2016 09:58    morning         weekend\n",
      "1            2   Scandinavian  30-10-2016 10:05    morning         weekend\n",
      "2            2   Scandinavian  30-10-2016 10:05    morning         weekend\n",
      "3            3  Hot chocolate  30-10-2016 10:07    morning         weekend\n"
     ]
    }
   ],
   "source": [
    "bread_df = pd.read_csv('bread basket.csv')\n",
    "print(bread_df.head(4))"
   ]
  },
  {
   "cell_type": "code",
   "execution_count": 3,
   "metadata": {},
   "outputs": [
    {
     "name": "stdout",
     "output_type": "stream",
     "text": [
      "<class 'pandas.core.frame.DataFrame'>\n",
      "RangeIndex: 20507 entries, 0 to 20506\n",
      "Data columns (total 5 columns):\n",
      " #   Column           Non-Null Count  Dtype \n",
      "---  ------           --------------  ----- \n",
      " 0   Transaction      20507 non-null  int64 \n",
      " 1   Item             20507 non-null  object\n",
      " 2   date_time        20507 non-null  object\n",
      " 3   period_day       20507 non-null  object\n",
      " 4   weekday_weekend  20507 non-null  object\n",
      "dtypes: int64(1), object(4)\n",
      "memory usage: 801.2+ KB\n",
      "None\n"
     ]
    }
   ],
   "source": [
    "print(bread_df.info())"
   ]
  },
  {
   "cell_type": "code",
   "execution_count": 4,
   "metadata": {},
   "outputs": [
    {
     "name": "stdout",
     "output_type": "stream",
     "text": [
      "94개의 항목이 존재합니다.\n",
      "{'Chimichurri Oil', 'Chicken Stew', 'Fairy Doors', 'Salad', 'Jammie Dodgers', 'Drinking chocolate spoons ', 'Lemon and coconut', 'My-5 Fruit Shoot', 'Focaccia', 'Baguette', 'Bread', 'Toast', 'Vegan Feast', 'Juice', 'Argentina Night', 'Chicken sand', 'Pick and Mix Bowls', \"Valentine's card\", 'Chocolates', 'Tea', 'Eggs', 'Adjustment', 'Pastry', 'Hot chocolate', 'Scone', 'Panatone', 'Brownie', 'Truffles', 'Gift voucher', 'Granola', 'Brioche and salami', 'Nomad bag', 'Tshirt', 'Dulce de Leche', 'Raspberry shortbread sandwich', 'Olum & polenta', 'Muffin', 'Basket', 'Sandwich', 'Mighty Protein', 'Bakewell', 'Coke', 'Victorian Sponge', 'Vegan mincepie', 'Afternoon with the baker', 'Coffee granules ', 'Alfajores', 'Empanadas', 'Cherry me Dried fruit', 'Scandinavian', 'Smoothies', 'Jam', \"Ella's Kitchen Pouches\", 'Siblings', 'Tiffin', 'Bacon', 'Honey', 'Mineral water', 'Polenta', 'Bread Pudding', 'Hearty & Seasonal', 'Extra Salami or Feta', 'Muesli', 'Caramel bites', 'Crisps', 'Half slice Monster ', 'Fudge', 'Art Tray', 'Hack the stack', 'Gingerbread syrup', 'Medialuna', 'Coffee', 'Pintxos', 'Bare Popcorn', 'Mortimer', 'Christmas common', 'The Nomad', 'Crepes', 'Raw bars', 'Duck egg', 'Kids biscuit', 'Bowl Nic Pitt', 'Tartine', 'Keeping It Local', 'Cake', 'Postcard', 'Tacos/Fajita', 'Frittata', 'Cookies', 'The BART', 'Spread', 'Soup', 'Farm House', 'Spanish Brunch'}\n"
     ]
    }
   ],
   "source": [
    "# 장바구니 데이터 고유항목 구분 출력\n",
    "items = set()   # 중복을 허용하지 않는 set 구조 활용\n",
    "for col in bread_df:\n",
    "    items.update(bread_df['Item'].unique())\n",
    "\n",
    "print(f'{len(items)}개의 항목이 존재합니다.')\n",
    "print(items)"
   ]
  },
  {
   "cell_type": "markdown",
   "metadata": {},
   "source": [
    "# 데이터 전처리"
   ]
  },
  {
   "cell_type": "code",
   "execution_count": 5,
   "metadata": {},
   "outputs": [
    {
     "name": "stdout",
     "output_type": "stream",
     "text": [
      "       Transaction           Item  Count\n",
      "0                1          Bread      1\n",
      "1                2   Scandinavian      2\n",
      "2                3        Cookies      1\n",
      "3                3  Hot chocolate      1\n",
      "4                3            Jam      1\n",
      "...            ...            ...    ...\n",
      "18882         9682   Tacos/Fajita      1\n",
      "18883         9682            Tea      1\n",
      "18884         9683         Coffee      1\n",
      "18885         9683         Pastry      1\n",
      "18886         9684      Smoothies      1\n",
      "\n",
      "[18887 rows x 3 columns]\n"
     ]
    }
   ],
   "source": [
    "group_trans = bread_df.groupby(['Transaction', 'Item'])['Item'].count().reset_index(name ='Count')\n",
    "print(group_trans)"
   ]
  },
  {
   "cell_type": "code",
   "execution_count": 6,
   "metadata": {},
   "outputs": [
    {
     "data": {
      "text/html": [
       "<div>\n",
       "<style scoped>\n",
       "    .dataframe tbody tr th:only-of-type {\n",
       "        vertical-align: middle;\n",
       "    }\n",
       "\n",
       "    .dataframe tbody tr th {\n",
       "        vertical-align: top;\n",
       "    }\n",
       "\n",
       "    .dataframe thead th {\n",
       "        text-align: right;\n",
       "    }\n",
       "</style>\n",
       "<table border=\"1\" class=\"dataframe\">\n",
       "  <thead>\n",
       "    <tr style=\"text-align: right;\">\n",
       "      <th>Item</th>\n",
       "      <th>Adjustment</th>\n",
       "      <th>Afternoon with the baker</th>\n",
       "      <th>Alfajores</th>\n",
       "      <th>Argentina Night</th>\n",
       "      <th>Art Tray</th>\n",
       "      <th>Bacon</th>\n",
       "      <th>Baguette</th>\n",
       "      <th>Bakewell</th>\n",
       "      <th>Bare Popcorn</th>\n",
       "      <th>Basket</th>\n",
       "      <th>...</th>\n",
       "      <th>The BART</th>\n",
       "      <th>The Nomad</th>\n",
       "      <th>Tiffin</th>\n",
       "      <th>Toast</th>\n",
       "      <th>Truffles</th>\n",
       "      <th>Tshirt</th>\n",
       "      <th>Valentine's card</th>\n",
       "      <th>Vegan Feast</th>\n",
       "      <th>Vegan mincepie</th>\n",
       "      <th>Victorian Sponge</th>\n",
       "    </tr>\n",
       "    <tr>\n",
       "      <th>Transaction</th>\n",
       "      <th></th>\n",
       "      <th></th>\n",
       "      <th></th>\n",
       "      <th></th>\n",
       "      <th></th>\n",
       "      <th></th>\n",
       "      <th></th>\n",
       "      <th></th>\n",
       "      <th></th>\n",
       "      <th></th>\n",
       "      <th></th>\n",
       "      <th></th>\n",
       "      <th></th>\n",
       "      <th></th>\n",
       "      <th></th>\n",
       "      <th></th>\n",
       "      <th></th>\n",
       "      <th></th>\n",
       "      <th></th>\n",
       "      <th></th>\n",
       "      <th></th>\n",
       "    </tr>\n",
       "  </thead>\n",
       "  <tbody>\n",
       "    <tr>\n",
       "      <th>1</th>\n",
       "      <td>0.0</td>\n",
       "      <td>0.0</td>\n",
       "      <td>0.0</td>\n",
       "      <td>0.0</td>\n",
       "      <td>0.0</td>\n",
       "      <td>0.0</td>\n",
       "      <td>0.0</td>\n",
       "      <td>0.0</td>\n",
       "      <td>0.0</td>\n",
       "      <td>0.0</td>\n",
       "      <td>...</td>\n",
       "      <td>0.0</td>\n",
       "      <td>0.0</td>\n",
       "      <td>0.0</td>\n",
       "      <td>0.0</td>\n",
       "      <td>0.0</td>\n",
       "      <td>0.0</td>\n",
       "      <td>0.0</td>\n",
       "      <td>0.0</td>\n",
       "      <td>0.0</td>\n",
       "      <td>0.0</td>\n",
       "    </tr>\n",
       "    <tr>\n",
       "      <th>2</th>\n",
       "      <td>0.0</td>\n",
       "      <td>0.0</td>\n",
       "      <td>0.0</td>\n",
       "      <td>0.0</td>\n",
       "      <td>0.0</td>\n",
       "      <td>0.0</td>\n",
       "      <td>0.0</td>\n",
       "      <td>0.0</td>\n",
       "      <td>0.0</td>\n",
       "      <td>0.0</td>\n",
       "      <td>...</td>\n",
       "      <td>0.0</td>\n",
       "      <td>0.0</td>\n",
       "      <td>0.0</td>\n",
       "      <td>0.0</td>\n",
       "      <td>0.0</td>\n",
       "      <td>0.0</td>\n",
       "      <td>0.0</td>\n",
       "      <td>0.0</td>\n",
       "      <td>0.0</td>\n",
       "      <td>0.0</td>\n",
       "    </tr>\n",
       "    <tr>\n",
       "      <th>3</th>\n",
       "      <td>0.0</td>\n",
       "      <td>0.0</td>\n",
       "      <td>0.0</td>\n",
       "      <td>0.0</td>\n",
       "      <td>0.0</td>\n",
       "      <td>0.0</td>\n",
       "      <td>0.0</td>\n",
       "      <td>0.0</td>\n",
       "      <td>0.0</td>\n",
       "      <td>0.0</td>\n",
       "      <td>...</td>\n",
       "      <td>0.0</td>\n",
       "      <td>0.0</td>\n",
       "      <td>0.0</td>\n",
       "      <td>0.0</td>\n",
       "      <td>0.0</td>\n",
       "      <td>0.0</td>\n",
       "      <td>0.0</td>\n",
       "      <td>0.0</td>\n",
       "      <td>0.0</td>\n",
       "      <td>0.0</td>\n",
       "    </tr>\n",
       "    <tr>\n",
       "      <th>4</th>\n",
       "      <td>0.0</td>\n",
       "      <td>0.0</td>\n",
       "      <td>0.0</td>\n",
       "      <td>0.0</td>\n",
       "      <td>0.0</td>\n",
       "      <td>0.0</td>\n",
       "      <td>0.0</td>\n",
       "      <td>0.0</td>\n",
       "      <td>0.0</td>\n",
       "      <td>0.0</td>\n",
       "      <td>...</td>\n",
       "      <td>0.0</td>\n",
       "      <td>0.0</td>\n",
       "      <td>0.0</td>\n",
       "      <td>0.0</td>\n",
       "      <td>0.0</td>\n",
       "      <td>0.0</td>\n",
       "      <td>0.0</td>\n",
       "      <td>0.0</td>\n",
       "      <td>0.0</td>\n",
       "      <td>0.0</td>\n",
       "    </tr>\n",
       "    <tr>\n",
       "      <th>5</th>\n",
       "      <td>0.0</td>\n",
       "      <td>0.0</td>\n",
       "      <td>0.0</td>\n",
       "      <td>0.0</td>\n",
       "      <td>0.0</td>\n",
       "      <td>0.0</td>\n",
       "      <td>0.0</td>\n",
       "      <td>0.0</td>\n",
       "      <td>0.0</td>\n",
       "      <td>0.0</td>\n",
       "      <td>...</td>\n",
       "      <td>0.0</td>\n",
       "      <td>0.0</td>\n",
       "      <td>0.0</td>\n",
       "      <td>0.0</td>\n",
       "      <td>0.0</td>\n",
       "      <td>0.0</td>\n",
       "      <td>0.0</td>\n",
       "      <td>0.0</td>\n",
       "      <td>0.0</td>\n",
       "      <td>0.0</td>\n",
       "    </tr>\n",
       "  </tbody>\n",
       "</table>\n",
       "<p>5 rows × 94 columns</p>\n",
       "</div>"
      ],
      "text/plain": [
       "Item         Adjustment  Afternoon with the baker  Alfajores  Argentina Night  \\\n",
       "Transaction                                                                     \n",
       "1                   0.0                       0.0        0.0              0.0   \n",
       "2                   0.0                       0.0        0.0              0.0   \n",
       "3                   0.0                       0.0        0.0              0.0   \n",
       "4                   0.0                       0.0        0.0              0.0   \n",
       "5                   0.0                       0.0        0.0              0.0   \n",
       "\n",
       "Item         Art Tray  Bacon  Baguette  Bakewell  Bare Popcorn  Basket  ...  \\\n",
       "Transaction                                                             ...   \n",
       "1                 0.0    0.0       0.0       0.0           0.0     0.0  ...   \n",
       "2                 0.0    0.0       0.0       0.0           0.0     0.0  ...   \n",
       "3                 0.0    0.0       0.0       0.0           0.0     0.0  ...   \n",
       "4                 0.0    0.0       0.0       0.0           0.0     0.0  ...   \n",
       "5                 0.0    0.0       0.0       0.0           0.0     0.0  ...   \n",
       "\n",
       "Item         The BART  The Nomad  Tiffin  Toast  Truffles  Tshirt  \\\n",
       "Transaction                                                         \n",
       "1                 0.0        0.0     0.0    0.0       0.0     0.0   \n",
       "2                 0.0        0.0     0.0    0.0       0.0     0.0   \n",
       "3                 0.0        0.0     0.0    0.0       0.0     0.0   \n",
       "4                 0.0        0.0     0.0    0.0       0.0     0.0   \n",
       "5                 0.0        0.0     0.0    0.0       0.0     0.0   \n",
       "\n",
       "Item         Valentine's card  Vegan Feast  Vegan mincepie  Victorian Sponge  \n",
       "Transaction                                                                   \n",
       "1                         0.0          0.0             0.0               0.0  \n",
       "2                         0.0          0.0             0.0               0.0  \n",
       "3                         0.0          0.0             0.0               0.0  \n",
       "4                         0.0          0.0             0.0               0.0  \n",
       "5                         0.0          0.0             0.0               0.0  \n",
       "\n",
       "[5 rows x 94 columns]"
      ]
     },
     "execution_count": 6,
     "metadata": {},
     "output_type": "execute_result"
    }
   ],
   "source": [
    "basket = group_trans.pivot_table(index='Transaction', columns='Item', values='Count', aggfunc='sum').fillna(0)\n",
    "#print(basket.head())\n",
    "basket.head()\n",
    "\n",
    "# basket.loc[2, 'Scandinavian']은 현재 2"
   ]
  },
  {
   "cell_type": "code",
   "execution_count": 16,
   "metadata": {},
   "outputs": [
    {
     "name": "stdout",
     "output_type": "stream",
     "text": [
      "1\n"
     ]
    }
   ],
   "source": [
    "# 0, 1 로 변환해주는 함수\n",
    "def zero_or_one(x):\n",
    "    if x<=0:\n",
    "        return 0\n",
    "    if x>=1:    # 한 구매에 같은 상품을 2번 이상 구매해도 1로 입력되도록 변경\n",
    "        return 1\n",
    "\n",
    "basket = basket.map(zero_or_one)\n",
    "print(basket.loc[2, 'Scandinavian'])   # 2였던 값이 1로 변했음을 확인함"
   ]
  },
  {
   "cell_type": "markdown",
   "metadata": {},
   "source": [
    "# Apriori"
   ]
  },
  {
   "cell_type": "code",
   "execution_count": 17,
   "metadata": {},
   "outputs": [
    {
     "name": "stdout",
     "output_type": "stream",
     "text": [
      "     support             itemsets\n",
      "4   0.478394             (Coffee)\n",
      "1   0.327205              (Bread)\n",
      "13  0.142631                (Tea)\n",
      "3   0.103856               (Cake)\n",
      "14  0.090016      (Bread, Coffee)\n",
      "11  0.086107             (Pastry)\n",
      "12  0.071844           (Sandwich)\n",
      "9   0.061807          (Medialuna)\n",
      "7   0.058320      (Hot chocolate)\n",
      "15  0.054728       (Coffee, Cake)\n",
      "5   0.054411            (Cookies)\n",
      "19  0.049868        (Coffee, Tea)\n",
      "17  0.047544     (Pastry, Coffee)\n",
      "2   0.040042            (Brownie)\n",
      "6   0.039197         (Farm House)\n",
      "8   0.038563              (Juice)\n",
      "10  0.038457             (Muffin)\n",
      "18  0.038246   (Coffee, Sandwich)\n",
      "0   0.036344          (Alfajores)\n",
      "16  0.035182  (Medialuna, Coffee)\n"
     ]
    },
    {
     "name": "stderr",
     "output_type": "stream",
     "text": [
      "c:\\Users\\njh26\\Desktop\\Coding\\03.Project\\Association_Rule\\association\\Lib\\site-packages\\mlxtend\\frequent_patterns\\fpcommon.py:109: DeprecationWarning: DataFrames with non-bool types result in worse computationalperformance and their support might be discontinued in the future.Please use a DataFrame with bool type\n",
      "  warnings.warn(\n"
     ]
    }
   ],
   "source": [
    "frequent_itemsets = apriori(basket, min_support = 0.035, use_colnames = True)\n",
    "print(frequent_itemsets.sort_values('support', ascending = False))"
   ]
  },
  {
   "cell_type": "code",
   "execution_count": 18,
   "metadata": {},
   "outputs": [
    {
     "data": {
      "text/html": [
       "<div>\n",
       "<style scoped>\n",
       "    .dataframe tbody tr th:only-of-type {\n",
       "        vertical-align: middle;\n",
       "    }\n",
       "\n",
       "    .dataframe tbody tr th {\n",
       "        vertical-align: top;\n",
       "    }\n",
       "\n",
       "    .dataframe thead th {\n",
       "        text-align: right;\n",
       "    }\n",
       "</style>\n",
       "<table border=\"1\" class=\"dataframe\">\n",
       "  <thead>\n",
       "    <tr style=\"text-align: right;\">\n",
       "      <th></th>\n",
       "      <th>antecedents</th>\n",
       "      <th>consequents</th>\n",
       "      <th>antecedent support</th>\n",
       "      <th>consequent support</th>\n",
       "      <th>support</th>\n",
       "      <th>confidence</th>\n",
       "      <th>lift</th>\n",
       "      <th>leverage</th>\n",
       "      <th>conviction</th>\n",
       "      <th>zhangs_metric</th>\n",
       "    </tr>\n",
       "  </thead>\n",
       "  <tbody>\n",
       "    <tr>\n",
       "      <th>2</th>\n",
       "      <td>(Medialuna)</td>\n",
       "      <td>(Coffee)</td>\n",
       "      <td>0.061807</td>\n",
       "      <td>0.478394</td>\n",
       "      <td>0.035182</td>\n",
       "      <td>0.569231</td>\n",
       "      <td>1.189878</td>\n",
       "      <td>0.005614</td>\n",
       "      <td>1.210871</td>\n",
       "      <td>0.170091</td>\n",
       "    </tr>\n",
       "    <tr>\n",
       "      <th>4</th>\n",
       "      <td>(Pastry)</td>\n",
       "      <td>(Coffee)</td>\n",
       "      <td>0.086107</td>\n",
       "      <td>0.478394</td>\n",
       "      <td>0.047544</td>\n",
       "      <td>0.552147</td>\n",
       "      <td>1.154168</td>\n",
       "      <td>0.006351</td>\n",
       "      <td>1.164682</td>\n",
       "      <td>0.146161</td>\n",
       "    </tr>\n",
       "    <tr>\n",
       "      <th>7</th>\n",
       "      <td>(Sandwich)</td>\n",
       "      <td>(Coffee)</td>\n",
       "      <td>0.071844</td>\n",
       "      <td>0.478394</td>\n",
       "      <td>0.038246</td>\n",
       "      <td>0.532353</td>\n",
       "      <td>1.112792</td>\n",
       "      <td>0.003877</td>\n",
       "      <td>1.115384</td>\n",
       "      <td>0.109205</td>\n",
       "    </tr>\n",
       "    <tr>\n",
       "      <th>1</th>\n",
       "      <td>(Cake)</td>\n",
       "      <td>(Coffee)</td>\n",
       "      <td>0.103856</td>\n",
       "      <td>0.478394</td>\n",
       "      <td>0.054728</td>\n",
       "      <td>0.526958</td>\n",
       "      <td>1.101515</td>\n",
       "      <td>0.005044</td>\n",
       "      <td>1.102664</td>\n",
       "      <td>0.102840</td>\n",
       "    </tr>\n",
       "    <tr>\n",
       "      <th>0</th>\n",
       "      <td>(Coffee)</td>\n",
       "      <td>(Cake)</td>\n",
       "      <td>0.478394</td>\n",
       "      <td>0.103856</td>\n",
       "      <td>0.054728</td>\n",
       "      <td>0.114399</td>\n",
       "      <td>1.101515</td>\n",
       "      <td>0.005044</td>\n",
       "      <td>1.011905</td>\n",
       "      <td>0.176684</td>\n",
       "    </tr>\n",
       "    <tr>\n",
       "      <th>5</th>\n",
       "      <td>(Coffee)</td>\n",
       "      <td>(Pastry)</td>\n",
       "      <td>0.478394</td>\n",
       "      <td>0.086107</td>\n",
       "      <td>0.047544</td>\n",
       "      <td>0.099382</td>\n",
       "      <td>1.154168</td>\n",
       "      <td>0.006351</td>\n",
       "      <td>1.014740</td>\n",
       "      <td>0.256084</td>\n",
       "    </tr>\n",
       "    <tr>\n",
       "      <th>6</th>\n",
       "      <td>(Coffee)</td>\n",
       "      <td>(Sandwich)</td>\n",
       "      <td>0.478394</td>\n",
       "      <td>0.071844</td>\n",
       "      <td>0.038246</td>\n",
       "      <td>0.079947</td>\n",
       "      <td>1.112792</td>\n",
       "      <td>0.003877</td>\n",
       "      <td>1.008807</td>\n",
       "      <td>0.194321</td>\n",
       "    </tr>\n",
       "    <tr>\n",
       "      <th>3</th>\n",
       "      <td>(Coffee)</td>\n",
       "      <td>(Medialuna)</td>\n",
       "      <td>0.478394</td>\n",
       "      <td>0.061807</td>\n",
       "      <td>0.035182</td>\n",
       "      <td>0.073542</td>\n",
       "      <td>1.189878</td>\n",
       "      <td>0.005614</td>\n",
       "      <td>1.012667</td>\n",
       "      <td>0.305936</td>\n",
       "    </tr>\n",
       "  </tbody>\n",
       "</table>\n",
       "</div>"
      ],
      "text/plain": [
       "   antecedents  consequents  antecedent support  consequent support   support  \\\n",
       "2  (Medialuna)     (Coffee)            0.061807            0.478394  0.035182   \n",
       "4     (Pastry)     (Coffee)            0.086107            0.478394  0.047544   \n",
       "7   (Sandwich)     (Coffee)            0.071844            0.478394  0.038246   \n",
       "1       (Cake)     (Coffee)            0.103856            0.478394  0.054728   \n",
       "0     (Coffee)       (Cake)            0.478394            0.103856  0.054728   \n",
       "5     (Coffee)     (Pastry)            0.478394            0.086107  0.047544   \n",
       "6     (Coffee)   (Sandwich)            0.478394            0.071844  0.038246   \n",
       "3     (Coffee)  (Medialuna)            0.478394            0.061807  0.035182   \n",
       "\n",
       "   confidence      lift  leverage  conviction  zhangs_metric  \n",
       "2    0.569231  1.189878  0.005614    1.210871       0.170091  \n",
       "4    0.552147  1.154168  0.006351    1.164682       0.146161  \n",
       "7    0.532353  1.112792  0.003877    1.115384       0.109205  \n",
       "1    0.526958  1.101515  0.005044    1.102664       0.102840  \n",
       "0    0.114399  1.101515  0.005044    1.011905       0.176684  \n",
       "5    0.099382  1.154168  0.006351    1.014740       0.256084  \n",
       "6    0.079947  1.112792  0.003877    1.008807       0.194321  \n",
       "3    0.073542  1.189878  0.005614    1.012667       0.305936  "
      ]
     },
     "execution_count": 18,
     "metadata": {},
     "output_type": "execute_result"
    }
   ],
   "source": [
    "rules = association_rules(frequent_itemsets, metric = \"lift\", min_threshold = 1)  # 양의 상관관계\n",
    "rules.sort_values('confidence', ascending = False, inplace = True)   # confidence 순으로 정렬\n",
    "# print(rules)\n",
    "rules"
   ]
  },
  {
   "cell_type": "markdown",
   "metadata": {},
   "source": [
    "Lift 값이 1 이상으로 양의 상관관계가 있다고 보이는 조합을 추출  \n",
    "신뢰도 기준으로 정렬하였을 때 결과는  \n",
    "1. Medialuna -> Coffee\n",
    "2. Pastry -> Coffee\n",
    "3. Sandwich -> Coffee\n",
    "4. Cake -> Coffee"
   ]
  },
  {
   "cell_type": "markdown",
   "metadata": {},
   "source": [
    "### 커피 다음으로 많이 팔린 것이 빵이지만, 빵은 연관 규칙이 나타나지 않았음"
   ]
  },
  {
   "cell_type": "code",
   "execution_count": 19,
   "metadata": {},
   "outputs": [
    {
     "name": "stdout",
     "output_type": "stream",
     "text": [
      "   antecedents consequents  antecedent support  consequent support   support  \\\n",
      "0      (Bread)    (Coffee)            0.327205            0.478394  0.090016   \n",
      "1     (Coffee)     (Bread)            0.478394            0.327205  0.090016   \n",
      "10    (Coffee)       (Tea)            0.478394            0.142631  0.049868   \n",
      "11       (Tea)    (Coffee)            0.142631            0.478394  0.049868   \n",
      "\n",
      "    confidence      lift  leverage  conviction  zhangs_metric  \n",
      "0     0.275105  0.575059 -0.066517    0.719561      -0.523431  \n",
      "1     0.188163  0.575059 -0.066517    0.828731      -0.586210  \n",
      "10    0.104240  0.730840 -0.018366    0.957142      -0.413856  \n",
      "11    0.349630  0.730840 -0.018366    0.802014      -0.300482  \n"
     ]
    }
   ],
   "source": [
    "# 최소 지지도를 기반으로 음의 상관관계 확인\n",
    "rules_support = association_rules(frequent_itemsets, metric = \"support\", min_threshold = 0.035)\n",
    "negative_correlation_rules = rules_support[rules_support['lift'] < 1]   # 음의 상관관계\n",
    "print(negative_correlation_rules)"
   ]
  },
  {
   "cell_type": "markdown",
   "metadata": {},
   "source": [
    "### support와 confidence로 보아 강하진 않지만, 빵과 커피, 차와 커피는 음의 상관관계를 보이고 있음  \n",
    "빵과 커피가 음의 상관관계를 가졌음은 의외의 결과임  \n",
    "커피를 마시는 고객과 차를 마시는 고객이 나뉘므로 당연한 것으로 판단됨"
   ]
  },
  {
   "cell_type": "code",
   "execution_count": 12,
   "metadata": {},
   "outputs": [
    {
     "name": "stdout",
     "output_type": "stream",
     "text": [
      "frozenset({'Bread'})\n"
     ]
    }
   ],
   "source": [
    "print(negative_correlation_rules['antecedents'][0])"
   ]
  },
  {
   "cell_type": "code",
   "execution_count": 21,
   "metadata": {},
   "outputs": [
    {
     "name": "stderr",
     "output_type": "stream",
     "text": [
      "c:\\Users\\njh26\\Desktop\\Coding\\03.Project\\Association_Rule\\association\\Lib\\site-packages\\mlxtend\\frequent_patterns\\fpcommon.py:109: DeprecationWarning: DataFrames with non-bool types result in worse computationalperformance and their support might be discontinued in the future.Please use a DataFrame with bool type\n",
      "  warnings.warn(\n",
      "C:\\Users\\njh26\\AppData\\Local\\Temp\\ipykernel_6444\\4287126191.py:5: SettingWithCopyWarning: \n",
      "A value is trying to be set on a copy of a slice from a DataFrame\n",
      "\n",
      "See the caveats in the documentation: https://pandas.pydata.org/pandas-docs/stable/user_guide/indexing.html#returning-a-view-versus-a-copy\n",
      "  rules_bread.sort_values('lift', ascending = False, inplace = True)\n"
     ]
    }
   ],
   "source": [
    "# 빵에 대한 데이터를 추가 확인\n",
    "frequent_itemsets = apriori(basket, min_support = 0.002, use_colnames = True)\n",
    "rules_support = association_rules(frequent_itemsets, metric = \"support\", min_threshold = 0.001)\n",
    "rules_bread = rules_support[rules_support['antecedents'] == frozenset({'Bread'})]\n",
    "rules_bread.sort_values('lift', ascending = False, inplace = True)"
   ]
  },
  {
   "cell_type": "code",
   "execution_count": 22,
   "metadata": {},
   "outputs": [
    {
     "data": {
      "text/html": [
       "<div>\n",
       "<style scoped>\n",
       "    .dataframe tbody tr th:only-of-type {\n",
       "        vertical-align: middle;\n",
       "    }\n",
       "\n",
       "    .dataframe tbody tr th {\n",
       "        vertical-align: top;\n",
       "    }\n",
       "\n",
       "    .dataframe thead th {\n",
       "        text-align: right;\n",
       "    }\n",
       "</style>\n",
       "<table border=\"1\" class=\"dataframe\">\n",
       "  <thead>\n",
       "    <tr style=\"text-align: right;\">\n",
       "      <th></th>\n",
       "      <th>antecedents</th>\n",
       "      <th>consequents</th>\n",
       "      <th>antecedent support</th>\n",
       "      <th>consequent support</th>\n",
       "      <th>support</th>\n",
       "      <th>confidence</th>\n",
       "      <th>lift</th>\n",
       "      <th>leverage</th>\n",
       "      <th>conviction</th>\n",
       "      <th>zhangs_metric</th>\n",
       "    </tr>\n",
       "  </thead>\n",
       "  <tbody>\n",
       "    <tr>\n",
       "      <th>54</th>\n",
       "      <td>(Bread)</td>\n",
       "      <td>(Jammie Dodgers)</td>\n",
       "      <td>0.327205</td>\n",
       "      <td>0.013207</td>\n",
       "      <td>0.004649</td>\n",
       "      <td>0.014207</td>\n",
       "      <td>1.075777</td>\n",
       "      <td>0.000327</td>\n",
       "      <td>1.001015</td>\n",
       "      <td>0.104696</td>\n",
       "    </tr>\n",
       "    <tr>\n",
       "      <th>43</th>\n",
       "      <td>(Bread)</td>\n",
       "      <td>(Focaccia)</td>\n",
       "      <td>0.327205</td>\n",
       "      <td>0.005705</td>\n",
       "      <td>0.002007</td>\n",
       "      <td>0.006135</td>\n",
       "      <td>1.075324</td>\n",
       "      <td>0.000141</td>\n",
       "      <td>1.000432</td>\n",
       "      <td>0.104114</td>\n",
       "    </tr>\n",
       "    <tr>\n",
       "      <th>66</th>\n",
       "      <td>(Bread)</td>\n",
       "      <td>(Pastry)</td>\n",
       "      <td>0.327205</td>\n",
       "      <td>0.086107</td>\n",
       "      <td>0.029160</td>\n",
       "      <td>0.089119</td>\n",
       "      <td>1.034977</td>\n",
       "      <td>0.000985</td>\n",
       "      <td>1.003306</td>\n",
       "      <td>0.050231</td>\n",
       "    </tr>\n",
       "    <tr>\n",
       "      <th>52</th>\n",
       "      <td>(Bread)</td>\n",
       "      <td>(Jam)</td>\n",
       "      <td>0.327205</td>\n",
       "      <td>0.015003</td>\n",
       "      <td>0.005071</td>\n",
       "      <td>0.015499</td>\n",
       "      <td>1.033076</td>\n",
       "      <td>0.000162</td>\n",
       "      <td>1.000504</td>\n",
       "      <td>0.047588</td>\n",
       "    </tr>\n",
       "    <tr>\n",
       "      <th>58</th>\n",
       "      <td>(Bread)</td>\n",
       "      <td>(Keeping It Local)</td>\n",
       "      <td>0.327205</td>\n",
       "      <td>0.006656</td>\n",
       "      <td>0.002219</td>\n",
       "      <td>0.006781</td>\n",
       "      <td>1.018728</td>\n",
       "      <td>0.000041</td>\n",
       "      <td>1.000126</td>\n",
       "      <td>0.027324</td>\n",
       "    </tr>\n",
       "  </tbody>\n",
       "</table>\n",
       "</div>"
      ],
      "text/plain": [
       "   antecedents         consequents  antecedent support  consequent support  \\\n",
       "54     (Bread)    (Jammie Dodgers)            0.327205            0.013207   \n",
       "43     (Bread)          (Focaccia)            0.327205            0.005705   \n",
       "66     (Bread)            (Pastry)            0.327205            0.086107   \n",
       "52     (Bread)               (Jam)            0.327205            0.015003   \n",
       "58     (Bread)  (Keeping It Local)            0.327205            0.006656   \n",
       "\n",
       "     support  confidence      lift  leverage  conviction  zhangs_metric  \n",
       "54  0.004649    0.014207  1.075777  0.000327    1.001015       0.104696  \n",
       "43  0.002007    0.006135  1.075324  0.000141    1.000432       0.104114  \n",
       "66  0.029160    0.089119  1.034977  0.000985    1.003306       0.050231  \n",
       "52  0.005071    0.015499  1.033076  0.000162    1.000504       0.047588  \n",
       "58  0.002219    0.006781  1.018728  0.000041    1.000126       0.027324  "
      ]
     },
     "execution_count": 22,
     "metadata": {},
     "output_type": "execute_result"
    }
   ],
   "source": [
    "rules_bread.head(5)"
   ]
  },
  {
   "cell_type": "markdown",
   "metadata": {},
   "source": [
    "빵과 양의 상관관계를 나타내는 것은 비슷한 빵류로 보임. 이외의 항목들은 모두 음의 상관관계를 나타냄  \n",
    "빵을 사서 다른 디저트를 사지 않는 경우, 빵과 함께 Pastry와 Jam등의 디저트를 구매한 경우의 2가지 형태가 모두 나타나는 것으로 보임  "
   ]
  },
  {
   "cell_type": "code",
   "execution_count": 23,
   "metadata": {},
   "outputs": [
    {
     "data": {
      "text/html": [
       "<div>\n",
       "<style scoped>\n",
       "    .dataframe tbody tr th:only-of-type {\n",
       "        vertical-align: middle;\n",
       "    }\n",
       "\n",
       "    .dataframe tbody tr th {\n",
       "        vertical-align: top;\n",
       "    }\n",
       "\n",
       "    .dataframe thead th {\n",
       "        text-align: right;\n",
       "    }\n",
       "</style>\n",
       "<table border=\"1\" class=\"dataframe\">\n",
       "  <thead>\n",
       "    <tr style=\"text-align: right;\">\n",
       "      <th></th>\n",
       "      <th>antecedents</th>\n",
       "      <th>consequents</th>\n",
       "      <th>antecedent support</th>\n",
       "      <th>consequent support</th>\n",
       "      <th>support</th>\n",
       "      <th>confidence</th>\n",
       "      <th>lift</th>\n",
       "      <th>leverage</th>\n",
       "      <th>conviction</th>\n",
       "      <th>zhangs_metric</th>\n",
       "    </tr>\n",
       "  </thead>\n",
       "  <tbody>\n",
       "    <tr>\n",
       "      <th>419</th>\n",
       "      <td>(Bread)</td>\n",
       "      <td>(Coffee, Tea)</td>\n",
       "      <td>0.327205</td>\n",
       "      <td>0.049868</td>\n",
       "      <td>0.007396</td>\n",
       "      <td>0.022603</td>\n",
       "      <td>0.453248</td>\n",
       "      <td>-0.008921</td>\n",
       "      <td>0.972104</td>\n",
       "      <td>-0.641958</td>\n",
       "    </tr>\n",
       "    <tr>\n",
       "      <th>371</th>\n",
       "      <td>(Bread)</td>\n",
       "      <td>(Juice, Coffee)</td>\n",
       "      <td>0.327205</td>\n",
       "      <td>0.020602</td>\n",
       "      <td>0.002958</td>\n",
       "      <td>0.009041</td>\n",
       "      <td>0.438837</td>\n",
       "      <td>-0.003783</td>\n",
       "      <td>0.988333</td>\n",
       "      <td>-0.655251</td>\n",
       "    </tr>\n",
       "    <tr>\n",
       "      <th>407</th>\n",
       "      <td>(Bread)</td>\n",
       "      <td>(Coffee, Soup)</td>\n",
       "      <td>0.327205</td>\n",
       "      <td>0.015848</td>\n",
       "      <td>0.002219</td>\n",
       "      <td>0.006781</td>\n",
       "      <td>0.427866</td>\n",
       "      <td>-0.002967</td>\n",
       "      <td>0.990871</td>\n",
       "      <td>-0.665272</td>\n",
       "    </tr>\n",
       "    <tr>\n",
       "      <th>383</th>\n",
       "      <td>(Bread)</td>\n",
       "      <td>(Coffee, Muffin)</td>\n",
       "      <td>0.327205</td>\n",
       "      <td>0.018806</td>\n",
       "      <td>0.002430</td>\n",
       "      <td>0.007427</td>\n",
       "      <td>0.394900</td>\n",
       "      <td>-0.003723</td>\n",
       "      <td>0.988535</td>\n",
       "      <td>-0.694889</td>\n",
       "    </tr>\n",
       "    <tr>\n",
       "      <th>40</th>\n",
       "      <td>(Bread)</td>\n",
       "      <td>(Farm House)</td>\n",
       "      <td>0.327205</td>\n",
       "      <td>0.039197</td>\n",
       "      <td>0.004966</td>\n",
       "      <td>0.015176</td>\n",
       "      <td>0.387171</td>\n",
       "      <td>-0.007860</td>\n",
       "      <td>0.975609</td>\n",
       "      <td>-0.701726</td>\n",
       "    </tr>\n",
       "  </tbody>\n",
       "</table>\n",
       "</div>"
      ],
      "text/plain": [
       "    antecedents       consequents  antecedent support  consequent support  \\\n",
       "419     (Bread)     (Coffee, Tea)            0.327205            0.049868   \n",
       "371     (Bread)   (Juice, Coffee)            0.327205            0.020602   \n",
       "407     (Bread)    (Coffee, Soup)            0.327205            0.015848   \n",
       "383     (Bread)  (Coffee, Muffin)            0.327205            0.018806   \n",
       "40      (Bread)      (Farm House)            0.327205            0.039197   \n",
       "\n",
       "      support  confidence      lift  leverage  conviction  zhangs_metric  \n",
       "419  0.007396    0.022603  0.453248 -0.008921    0.972104      -0.641958  \n",
       "371  0.002958    0.009041  0.438837 -0.003783    0.988333      -0.655251  \n",
       "407  0.002219    0.006781  0.427866 -0.002967    0.990871      -0.665272  \n",
       "383  0.002430    0.007427  0.394900 -0.003723    0.988535      -0.694889  \n",
       "40   0.004966    0.015176  0.387171 -0.007860    0.975609      -0.701726  "
      ]
     },
     "execution_count": 23,
     "metadata": {},
     "output_type": "execute_result"
    }
   ],
   "source": [
    "rules_bread.tail(5)"
   ]
  },
  {
   "cell_type": "markdown",
   "metadata": {},
   "source": [
    "빵과 음의 상관관계를 나타내는 항목은 Coffee임을 재차 확인함"
   ]
  },
  {
   "cell_type": "markdown",
   "metadata": {},
   "source": [
    "### 일반적으로 생각했을 때 빵과 커피의 음의 상관관계는 이해하기 어려우며, 해당 데이터가 온라인 주문 내역이 포함되어 있어, 온라인 데이터가 섞이면서 이런 결과가 나타났다고 생각됨. 온/오프라인 판매 구분이 없어 해당사항을 확인할 수는 없었음"
   ]
  },
  {
   "cell_type": "markdown",
   "metadata": {},
   "source": [
    "#### FP Growth로 수행했을 때도 유사한 결과가 나타나 해당 과정은 생략함"
   ]
  },
  {
   "cell_type": "markdown",
   "metadata": {},
   "source": [
    "---"
   ]
  }
 ],
 "metadata": {
  "kernelspec": {
   "display_name": "association",
   "language": "python",
   "name": "python3"
  },
  "language_info": {
   "codemirror_mode": {
    "name": "ipython",
    "version": 3
   },
   "file_extension": ".py",
   "mimetype": "text/x-python",
   "name": "python",
   "nbconvert_exporter": "python",
   "pygments_lexer": "ipython3",
   "version": "3.12.2"
  }
 },
 "nbformat": 4,
 "nbformat_minor": 2
}
